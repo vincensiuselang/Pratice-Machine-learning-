{
 "cells": [
  {
   "cell_type": "markdown",
   "metadata": {
    "vscode": {
     "languageId": "plaintext"
    }
   },
   "source": [
    "## 🚀 Apa Itu Auto-sklearn?\n",
    "#### Auto-sklearn adalah AutoML framework yang secara otomatis:\n",
    "#### ✅ Memilih model terbaik dari library scikit-learn.\n",
    "#### ✅ Mencari hyperparameter optimal menggunakan Bayesian Optimization.\n",
    "#### ✅ Melakukan preprocessing data secara otomatis.\n",
    "\n",
    "## ⚠️ Kelebihan dibanding TPOT:\n",
    "#### Lebih cepat karena pakai Bayesian Optimization (bukan Genetic Algorithm).\n",
    "#### Bisa ensembling model terbaik untuk meningkatkan akurasi.\n"
   ]
  },
  {
   "cell_type": "code",
   "execution_count": null,
   "metadata": {
    "vscode": {
     "languageId": "plaintext"
    }
   },
   "outputs": [],
   "source": []
  },
  {
   "cell_type": "code",
   "execution_count": null,
   "metadata": {
    "vscode": {
     "languageId": "plaintext"
    }
   },
   "outputs": [],
   "source": []
  },
  {
   "cell_type": "code",
   "execution_count": null,
   "metadata": {
    "vscode": {
     "languageId": "plaintext"
    }
   },
   "outputs": [],
   "source": []
  }
 ],
 "metadata": {
  "language_info": {
   "name": "python"
  }
 },
 "nbformat": 4,
 "nbformat_minor": 2
}
