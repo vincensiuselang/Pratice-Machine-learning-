{
 "cells": [
  {
   "cell_type": "code",
   "execution_count": 6,
   "metadata": {},
   "outputs": [],
   "source": [
    "# 1. Import Library Dulu\n",
    "\n",
    "import numpy as np\n",
    "import pandas as pd\n",
    "from sklearn.datasets import fetch_california_housing\n",
    "from sklearn.model_selection import train_test_split\n",
    "from sklearn.preprocessing import StandardScaler\n",
    "from sklearn.ensemble import RandomForestRegressor, GradientBoostingRegressor, StackingRegressor\n",
    "from sklearn.linear_model import Ridge\n",
    "from sklearn.metrics import mean_absolute_error, mean_squared_error, r2_score\n",
    "\n",
    "# RandomForestRegressor, GradientBoostingRegressor, LinearRegression, SVR → Model yang kita pakai.\n"
   ]
  },
  {
   "cell_type": "code",
   "execution_count": 7,
   "metadata": {},
   "outputs": [],
   "source": [
    "# 2. Siapkan Dataset\n",
    "\n",
    "# Load dataset\n",
    "data = fetch_california_housing()\n",
    "X, y = data.data, data.target\n",
    "\n",
    "# Split dataset\n",
    "X_train, X_test, y_train, y_test = train_test_split(X, y, test_size=0.2, random_state=42)\n",
    "\n",
    "# Scaling (opsional, tergantung model)\n",
    "scaler = StandardScaler()\n",
    "X_train = scaler.fit_transform(X_train)\n",
    "X_test = scaler.transform(X_test)"
   ]
  },
  {
   "cell_type": "code",
   "execution_count": 8,
   "metadata": {},
   "outputs": [],
   "source": [
    "# 3. Definisikan Base Models (Level-0)\n",
    "\n",
    "# Kita pakai 3 model sebagai base models:\n",
    "# Random Forest Regressor\n",
    "# Gradient Boosting Regressor\n",
    "# SVR (Support Vector Regressor)\n",
    "\n",
    "# Normalisasi hanya untuk SVR\n",
    "# Update base models\n",
    "base_models = [\n",
    "    (\"rf\", RandomForestRegressor(n_estimators=100, random_state=42)),\n",
    "    (\"gbr\", GradientBoostingRegressor(n_estimators=100, random_state=42)),\n",
    "]"
   ]
  },
  {
   "cell_type": "code",
   "execution_count": 9,
   "metadata": {},
   "outputs": [],
   "source": [
    "# 4. Definisikan Meta Model (Level-1)\n",
    "# Meta model\n",
    "meta_model = Ridge(alpha=1.0)\n",
    "\n",
    "# 5 Stacking Regressor\n",
    "stacking_reg = StackingRegressor(estimators=base_models, final_estimator=meta_model)\n",
    "# passthrough=False → Meta model hanya belajar dari output base models, bukan fitur asli.\n"
   ]
  },
  {
   "cell_type": "code",
   "execution_count": 10,
   "metadata": {},
   "outputs": [
    {
     "name": "stdout",
     "output_type": "stream",
     "text": [
      "MAE: 0.33\n",
      "MSE: 0.25\n",
      "R² Score: 0.8066\n"
     ]
    }
   ],
   "source": [
    "# 6. Train & Evaluasi Model\n",
    "\n",
    "# Train Stacking Model\n",
    "stacking_reg.fit(X_train, y_train)\n",
    "\n",
    "# Prediksi\n",
    "y_pred = stacking_reg.predict(X_test)\n",
    "\n",
    "# Evaluasi\n",
    "mae = mean_absolute_error(y_test, y_pred)\n",
    "mse = mean_squared_error(y_test, y_pred)\n",
    "r2 = r2_score(y_test, y_pred)\n",
    "\n",
    "print(f\"MAE: {mae:.2f}\")\n",
    "print(f\"MSE: {mse:.2f}\")\n",
    "print(f\"R² Score: {r2:.4f}\")"
   ]
  },
  {
   "cell_type": "code",
   "execution_count": 11,
   "metadata": {},
   "outputs": [
    {
     "name": "stdout",
     "output_type": "stream",
     "text": [
      "rf R² Score: 0.8053\n",
      "gbr R² Score: 0.7756\n",
      "Stacking Model R² Score: 0.8066\n"
     ]
    }
   ],
   "source": [
    "# 1️⃣ Cek apakah R² score stacking lebih tinggi dari base models.\n",
    "def evaluate_model(model, X_test, y_test, name):\n",
    "    y_pred = model.predict(X_test)\n",
    "    r2 = r2_score(y_test, y_pred)\n",
    "    print(f\"{name} R² Score: {r2:.4f}\")\n",
    "\n",
    "# Evaluasi masing-masing model\n",
    "for name, model in base_models:\n",
    "    model.fit(X_train, y_train)  # Train ulang tiap model\n",
    "    evaluate_model(model, X_test, y_test, name)\n",
    "\n",
    "# Evaluasi Stacking Model\n",
    "evaluate_model(stacking_reg, X_test, y_test, \"Stacking Model\")\n"
   ]
  },
  {
   "cell_type": "code",
   "execution_count": null,
   "metadata": {},
   "outputs": [],
   "source": [
    "# 🔥 Kesimpulan\n",
    "# 1️⃣ Kalau stacking R² lebih rendah dari 0.84 → Coba ganti meta model jadi Random Forest, XGBoost, atau LightGBM.\n",
    "# 2️⃣ Kalau masih belum optimal → Coba tambah base models lain yang punya pendekatan berbeda.\n",
    "# 3️⃣ Kalau stacking udah lebih tinggi dari 0.84 → Mantap! 🚀 Berarti kombinasi model kita udah optimal."
   ]
  }
 ],
 "metadata": {
  "kernelspec": {
   "display_name": "Python (env_ml)",
   "language": "python",
   "name": "env_ml"
  },
  "language_info": {
   "codemirror_mode": {
    "name": "ipython",
    "version": 3
   },
   "file_extension": ".py",
   "mimetype": "text/x-python",
   "name": "python",
   "nbconvert_exporter": "python",
   "pygments_lexer": "ipython3",
   "version": "3.12.3"
  }
 },
 "nbformat": 4,
 "nbformat_minor": 2
}
