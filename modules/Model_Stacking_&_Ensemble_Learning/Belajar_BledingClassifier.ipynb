{
 "cells": [
  {
   "cell_type": "code",
   "execution_count": 1,
   "metadata": {},
   "outputs": [
    {
     "name": "stdout",
     "output_type": "stream",
     "text": [
      "Training set: (120, 4), Holdout set: (30, 4)\n"
     ]
    }
   ],
   "source": [
    "# 1️⃣ Load Dataset & Split Data\n",
    "\n",
    "import numpy as np\n",
    "import pandas as pd\n",
    "from sklearn.model_selection import train_test_split\n",
    "from sklearn.ensemble import RandomForestClassifier\n",
    "from sklearn.neighbors import KNeighborsClassifier\n",
    "from sklearn.linear_model import LogisticRegression\n",
    "from sklearn.metrics import accuracy_score\n",
    "from sklearn.datasets import load_iris\n",
    "\n",
    "# Load dataset\n",
    "iris = load_iris()\n",
    "X, y = iris.data, iris.target\n",
    "\n",
    "# Split data: 80% training, 20% holdout\n",
    "X_train, X_holdout, y_train, y_holdout = train_test_split(X, y, test_size=0.2, random_state=42)\n",
    "\n",
    "print(f\"Training set: {X_train.shape}, Holdout set: {X_holdout.shape}\")\n"
   ]
  },
  {
   "cell_type": "code",
   "execution_count": 3,
   "metadata": {},
   "outputs": [
    {
     "name": "stdout",
     "output_type": "stream",
     "text": [
      "Shape meta features: (30, 6)\n"
     ]
    }
   ],
   "source": [
    "# 2️⃣ Train Base Models\n",
    "\n",
    "# Kita akan melatih dua model dasar:\n",
    "# Random Forest\n",
    "# K-Nearest Neighbors (KNN)\n",
    "\n",
    "# Train base models\n",
    "rf = RandomForestClassifier(n_estimators=100, random_state=42)\n",
    "knn = KNeighborsClassifier(n_neighbors=5)\n",
    "\n",
    "rf.fit(X_train, y_train)\n",
    "knn.fit(X_train, y_train)\n",
    "\n",
    "# Prediksi base models di holdout set\n",
    "rf_preds = rf.predict_proba(X_holdout)  # Probabilitas kelas\n",
    "knn_preds = knn.predict_proba(X_holdout)  # Probabilitas kelas\n",
    "\n",
    "# Gabungkan prediksi dari base models sebagai fitur untuk meta model\n",
    "meta_features = np.hstack((rf_preds, knn_preds))\n",
    "\n",
    "print(f\"Shape meta features: {meta_features.shape}\")\n",
    "\n",
    "# 🔎 Penjelasan:\n",
    "# ✅ rf.predict_proba(X_holdout) → Menghasilkan probabilitas setiap kelas (bukan langsung label).\n",
    "# ✅ np.hstack((rf_preds, knn_preds)) → Menggabungkan output kedua model jadi satu dataset baru.\n",
    "# ✅ Meta features → Ini yang nanti bakal kita pakai buat melatih model meta.\n",
    "\n",
    "# Kenapa (30, 6)?\n",
    "# Kita punya 30 data di holdout set (karena 20% dari 150 data).\n",
    "# 6 kolom karena:\n",
    "# Random Forest (rf_preds) → 3 kolom (probabilitas untuk setiap kelas).\n",
    "# KNN (knn_preds) → 3 kolom (probabilitas untuk setiap kelas).\n",
    "# Total = 6 fitur buat meta model."
   ]
  },
  {
   "cell_type": "code",
   "execution_count": null,
   "metadata": {},
   "outputs": [
    {
     "name": "stdout",
     "output_type": "stream",
     "text": [
      "Blending Accuracy: 1.0000\n"
     ]
    },
    {
     "name": "stderr",
     "output_type": "stream",
     "text": [
      "c:\\Users\\formylife\\anaconda3\\Lib\\site-packages\\sklearn\\linear_model\\_logistic.py:1247: FutureWarning: 'multi_class' was deprecated in version 1.5 and will be removed in 1.7. From then on, it will always use 'multinomial'. Leave it to its default value to avoid this warning.\n",
      "  warnings.warn(\n"
     ]
    }
   ],
   "source": [
    "# 3️⃣ Train Meta Model (Logistic Regression)\n",
    "\n",
    "# Sekarang, kita gunakan meta_features buat melatih Logistic Regression sebagai meta model.\n",
    "\n",
    "# Train meta model\n",
    "meta_model = LogisticRegression(multi_class='multinomial', solver='lbfgs', random_state=42)\n",
    "meta_model.fit(meta_features, y_holdout)\n",
    "\n",
    "# Prediksi akhir menggunakan meta model\n",
    "final_preds = meta_model.predict(meta_features)\n",
    "\n",
    "# Evaluasi model\n",
    "accuracy = accuracy_score(y_holdout, final_preds)\n",
    "print(f\"Blending Accuracy: {accuracy:.4f}\")\n",
    "\n",
    "# 🔎 Penjelasan:\n",
    "# ✅ meta_model.fit(meta_features, y_holdout) → Melatih Logistic Regression dengan prediksi dari base models.\n",
    "# ✅ final_preds = meta_model.predict(meta_features) → Meta model membuat prediksi akhir.\n",
    "# ✅ accuracy_score(y_holdout, final_preds) → Mengevaluasi akurasi dari blending model."
   ]
  },
  {
   "cell_type": "code",
   "execution_count": null,
   "metadata": {},
   "outputs": [],
   "source": []
  }
 ],
 "metadata": {
  "kernelspec": {
   "display_name": "Python (env_ml)",
   "language": "python",
   "name": "env_ml"
  },
  "language_info": {
   "codemirror_mode": {
    "name": "ipython",
    "version": 3
   },
   "file_extension": ".py",
   "mimetype": "text/x-python",
   "name": "python",
   "nbconvert_exporter": "python",
   "pygments_lexer": "ipython3",
   "version": "3.12.3"
  }
 },
 "nbformat": 4,
 "nbformat_minor": 2
}
