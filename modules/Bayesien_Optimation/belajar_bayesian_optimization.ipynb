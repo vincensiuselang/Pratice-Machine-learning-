{
 "cells": [
  {
   "cell_type": "code",
   "execution_count": 3,
   "metadata": {},
   "outputs": [
    {
     "name": "stdout",
     "output_type": "stream",
     "text": [
      "|   iter    |  target   |     x     |\n",
      "-------------------------------------\n",
      "| \u001b[39m1        \u001b[39m | \u001b[39m4.433    \u001b[39m | \u001b[39m2.247    \u001b[39m |\n",
      "| \u001b[39m2        \u001b[39m | \u001b[39m-2.313   \u001b[39m | \u001b[39m5.704    \u001b[39m |\n",
      "| \u001b[35m3        \u001b[39m | \u001b[35m4.538    \u001b[39m | \u001b[35m2.32     \u001b[39m |\n",
      "| \u001b[39m4        \u001b[39m | \u001b[39m-3.994   \u001b[39m | \u001b[39m0.0009465\u001b[39m |\n",
      "| \u001b[39m5        \u001b[39m | \u001b[39m4.483    \u001b[39m | \u001b[39m3.719    \u001b[39m |\n",
      "| \u001b[35m6        \u001b[39m | \u001b[35m4.982    \u001b[39m | \u001b[35m3.133    \u001b[39m |\n",
      "| \u001b[39m7        \u001b[39m | \u001b[39m4.976    \u001b[39m | \u001b[39m2.845    \u001b[39m |\n",
      "| \u001b[35m8        \u001b[39m | \u001b[35m5.0      \u001b[39m | \u001b[35m2.995    \u001b[39m |\n",
      "| \u001b[35m9        \u001b[39m | \u001b[35m5.0      \u001b[39m | \u001b[35m2.998    \u001b[39m |\n",
      "| \u001b[39m10       \u001b[39m | \u001b[39m5.0      \u001b[39m | \u001b[39m2.997    \u001b[39m |\n",
      "| \u001b[39m11       \u001b[39m | \u001b[39m4.999    \u001b[39m | \u001b[39m2.972    \u001b[39m |\n",
      "| \u001b[39m12       \u001b[39m | \u001b[39m4.999    \u001b[39m | \u001b[39m3.028    \u001b[39m |\n",
      "=====================================\n",
      "{'target': 4.999993851925976, 'params': {'x': 2.9975204689911297}}\n"
     ]
    }
   ],
   "source": [
    "from bayes_opt import BayesianOptimization\n",
    "\n",
    "# Definisikan fungsi yang akan dioptimasi\n",
    "def fungsi_objektif(x):\n",
    "    return -(x - 3) ** 2 + 5  # Maksimum di x = 3\n",
    "\n",
    "# Tentukan batas pencarian\n",
    "pbounds = {'x': (0, 6)}\n",
    "\n",
    "# Inisialisasi Bayesian Optimizer\n",
    "optimizer = BayesianOptimization(\n",
    "    f=fungsi_objektif,  # Fungsi yang mau dimaksimalkan\n",
    "    pbounds=pbounds,  # Rentang pencarian\n",
    "    random_state=42  # Biar hasilnya tetap sama kalau dijalankan ulang\n",
    ")\n",
    "\n",
    "# Jalankan optimasi\n",
    "optimizer.maximize(init_points=2, n_iter=10)\n",
    "\n",
    "# Tampilkan hasil terbaik\n",
    "print(optimizer.max)\n"
   ]
  },
  {
   "cell_type": "markdown",
   "metadata": {},
   "source": [
    "### 1️⃣ Contoh Fungsi Lain (Eksponensial)\n",
    "### Misalkan kita mau memaksimalkan fungsi:\n",
    "### f(x)= −e^−x + 2"
   ]
  },
  {
   "cell_type": "code",
   "execution_count": 4,
   "metadata": {},
   "outputs": [
    {
     "name": "stdout",
     "output_type": "stream",
     "text": [
      "|   iter    |  target   |     x     |\n",
      "-------------------------------------\n",
      "| \u001b[39m1        \u001b[39m | \u001b[39m1.846    \u001b[39m | \u001b[39m1.873    \u001b[39m |\n",
      "| \u001b[35m2        \u001b[39m | \u001b[35m1.991    \u001b[39m | \u001b[35m4.754    \u001b[39m |\n",
      "| \u001b[39m3        \u001b[39m | \u001b[39m1.991    \u001b[39m | \u001b[39m4.681    \u001b[39m |\n",
      "| \u001b[39m4        \u001b[39m | \u001b[39m1.001    \u001b[39m | \u001b[39m0.0007887\u001b[39m |\n",
      "| \u001b[39m5        \u001b[39m | \u001b[39m1.955    \u001b[39m | \u001b[39m3.105    \u001b[39m |\n",
      "| \u001b[39m6        \u001b[39m | \u001b[39m1.978    \u001b[39m | \u001b[39m3.828    \u001b[39m |\n",
      "| \u001b[39m7        \u001b[39m | \u001b[39m1.92     \u001b[39m | \u001b[39m2.529    \u001b[39m |\n",
      "| \u001b[35m8        \u001b[39m | \u001b[35m1.993    \u001b[39m | \u001b[35m5.0      \u001b[39m |\n",
      "| \u001b[39m9        \u001b[39m | \u001b[39m1.986    \u001b[39m | \u001b[39m4.246    \u001b[39m |\n",
      "| \u001b[39m10       \u001b[39m | \u001b[39m1.993    \u001b[39m | \u001b[39m4.92     \u001b[39m |\n",
      "| \u001b[35m11       \u001b[39m | \u001b[35m1.993    \u001b[39m | \u001b[35m5.0      \u001b[39m |\n",
      "| \u001b[39m12       \u001b[39m | \u001b[39m1.993    \u001b[39m | \u001b[39m5.0      \u001b[39m |\n",
      "=====================================\n",
      "{'target': 1.9932617849028766, 'params': {'x': 4.99996021151483}}\n"
     ]
    },
    {
     "data": {
      "image/png": "[encoded data removed]",
      "text/plain": [
       "<Figure size 640x480 with 1 Axes>"
      ]
     },
     "metadata": {},
     "output_type": "display_data"
    }
   ],
   "source": [
    "import numpy as np\n",
    "from bayes_opt import BayesianOptimization\n",
    "\n",
    "# Fungsi eksponensial yang ingin dimaksimalkan\n",
    "def fungsi_objektif(x):\n",
    "    return -np.exp(-x) + 2\n",
    "    # Di Python, np.exp(x) adalah fungsi eksponensial dari NumPy, yang artinya: 𝑒^𝑥\n",
    "    # Sekarang kita lihat bagian \"-np.exp(-x)\", yang artinya: −e^−x\n",
    "\n",
    "# Rentang pencarian dari 0 sampai 5\n",
    "pbounds = {'x': (0, 5)}\n",
    "\n",
    "# Inisialisasi Bayesian Optimization\n",
    "optimizer = BayesianOptimization(\n",
    "    f=fungsi_objektif,\n",
    "    pbounds=pbounds,\n",
    "    random_state=42\n",
    ")\n",
    "\n",
    "# Jalankan optimasi\n",
    "optimizer.maximize(init_points=2, n_iter=10)\n",
    "\n",
    "# Tampilkan hasil terbaik\n",
    "print(optimizer.max)\n",
    "\n",
    "import numpy as np\n",
    "import matplotlib.pyplot as plt\n",
    "\n",
    "x = np.linspace(0, 5, 100)\n",
    "y = -np.exp(-x) + 2\n",
    "\n",
    "plt.plot(x, y, label='-exp(-x) + 2', color='blue')\n",
    "plt.axhline(2, color='red', linestyle='dashed', label='y=2 (batas maksimum)')\n",
    "plt.xlabel('x')\n",
    "plt.ylabel('f(x)')\n",
    "plt.legend()\n",
    "plt.show()\n"
   ]
  },
  {
   "cell_type": "markdown",
   "metadata": {},
   "source": [
    "### 2️⃣ Optimasi dengan 2 Variabel\n",
    "### Sekarang, kita optimasi fungsi dengan dua variabel:\n",
    "### f(x,y)=−(x−2)^2 − (y−3)^2 +10\n",
    "#### Ini bentuknya seperti gunung, di mana puncaknya ada di (x=2, y=3)."
   ]
  },
  {
   "cell_type": "code",
   "execution_count": 11,
   "metadata": {},
   "outputs": [
    {
     "name": "stdout",
     "output_type": "stream",
     "text": [
      "|   iter    |  target   |     x     |     y     |\n",
      "-------------------------------------------------\n",
      "| \u001b[39m1        \u001b[39m | \u001b[39m6.909    \u001b[39m | \u001b[39m1.873    \u001b[39m | \u001b[39m4.754    \u001b[39m |\n",
      "| \u001b[35m2        \u001b[39m | \u001b[35m7.244    \u001b[39m | \u001b[35m3.66     \u001b[39m | \u001b[35m2.993    \u001b[39m |\n",
      "| \u001b[35m3        \u001b[39m | \u001b[35m7.343    \u001b[39m | \u001b[35m3.629    \u001b[39m | \u001b[35m3.067    \u001b[39m |\n",
      "| \u001b[35m4        \u001b[39m | \u001b[35m7.614    \u001b[39m | \u001b[35m3.52     \u001b[39m | \u001b[35m3.274    \u001b[39m |\n",
      "| \u001b[39m5        \u001b[39m | \u001b[39m7.054    \u001b[39m | \u001b[39m3.566    \u001b[39m | \u001b[39m3.702    \u001b[39m |\n",
      "| \u001b[35m6        \u001b[39m | \u001b[35m8.287    \u001b[39m | \u001b[35m3.285    \u001b[39m | \u001b[35m3.246    \u001b[39m |\n",
      "| \u001b[35m7        \u001b[39m | \u001b[35m8.9      \u001b[39m | \u001b[35m3.023    \u001b[39m | \u001b[35m3.231    \u001b[39m |\n",
      "| \u001b[35m8        \u001b[39m | \u001b[35m9.695    \u001b[39m | \u001b[35m2.546    \u001b[39m | \u001b[35m2.919    \u001b[39m |\n",
      "| \u001b[39m9        \u001b[39m | \u001b[39m9.488    \u001b[39m | \u001b[39m1.794    \u001b[39m | \u001b[39m2.315    \u001b[39m |\n",
      "| \u001b[39m10       \u001b[39m | \u001b[39m5.66     \u001b[39m | \u001b[39m2.032    \u001b[39m | \u001b[39m0.917    \u001b[39m |\n",
      "| \u001b[39m11       \u001b[39m | \u001b[39m9.4      \u001b[39m | \u001b[39m1.228    \u001b[39m | \u001b[39m3.07     \u001b[39m |\n",
      "| \u001b[39m12       \u001b[39m | \u001b[39m5.763    \u001b[39m | \u001b[39m0.0187   \u001b[39m | \u001b[39m2.442    \u001b[39m |\n",
      "=================================================\n",
      "{'target': 9.695344061053051, 'params': {'x': 2.5460259620361, 'y': 2.919305590469344}}\n"
     ]
    }
   ],
   "source": [
    "def fungsi_objektif(x, y):\n",
    "    return - (x - 2) ** 2 - (y - 3) ** 2 + 10\n",
    "\n",
    "pbounds = {'x': (0, 5), 'y': (0, 5)}\n",
    "\n",
    "optimizer = BayesianOptimization(\n",
    "    f=fungsi_objektif,\n",
    "    pbounds=pbounds,\n",
    "    random_state=42\n",
    ")\n",
    "\n",
    "optimizer.maximize(init_points=2, n_iter=10)\n",
    "\n",
    "print(optimizer.max)\n"
   ]
  },
  {
   "cell_type": "code",
   "execution_count": null,
   "metadata": {},
   "outputs": [],
   "source": []
  }
 ],
 "metadata": {
  "kernelspec": {
   "display_name": "base",
   "language": "python",
   "name": "python3"
  },
  "language_info": {
   "codemirror_mode": {
    "name": "ipython",
    "version": 3
   },
   "file_extension": ".py",
   "mimetype": "text/x-python",
   "name": "python",
   "nbconvert_exporter": "python",
   "pygments_lexer": "ipython3",
   "version": "3.12.7"
  }
 },
 "nbformat": 4,
 "nbformat_minor": 2
}
