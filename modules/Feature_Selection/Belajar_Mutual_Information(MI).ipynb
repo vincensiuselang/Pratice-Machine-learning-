{
 "cells": [
  {
   "cell_type": "code",
   "execution_count": 2,
   "metadata": {},
   "outputs": [],
   "source": [
    "# 1️⃣ Import Library & Load Dataset\n",
    "\n",
    "import numpy as np\n",
    "import pandas as pd\n",
    "from sklearn.datasets import load_iris, load_diabetes\n",
    "from sklearn.feature_selection import mutual_info_classif, mutual_info_regression\n"
   ]
  },
  {
   "cell_type": "code",
   "execution_count": null,
   "metadata": {},
   "outputs": [
    {
     "name": "stdout",
     "output_type": "stream",
     "text": [
      "Mutual Information untuk Klasifikasi: {'sepal length (cm)': 0.48591704423948756, 'sepal width (cm)': 0.2425735902843884, 'petal length (cm)': 0.9814386013088887, 'petal width (cm)': 0.9872190179515756}\n"
     ]
    }
   ],
   "source": [
    "# 2️⃣ MI untuk Klasifikasi (Dataset Iris)\n",
    "\n",
    "# Load dataset Iris\n",
    "iris = load_iris()\n",
    "X = iris.data\n",
    "y = iris.target\n",
    "feature_names = iris.feature_names\n",
    "\n",
    "# Hitung Mutual Information untuk klasifikasi\n",
    "mi_scores = mutual_info_classif(X, y)\n",
    "\n",
    "# Tampilkan skor MI untuk setiap fitur\n",
    "mi_dict = dict(zip(feature_names, mi_scores))\n",
    "print(\"Mutual Information untuk Klasifikasi:\", mi_dict)\n",
    "\n",
    "# 🔹 Semakin tinggi nilainya, semakin penting fitur tersebut untuk prediksi targe"
   ]
  },
  {
   "cell_type": "code",
   "execution_count": 5,
   "metadata": {},
   "outputs": [
    {
     "name": "stdout",
     "output_type": "stream",
     "text": [
      "Mutual Information untuk Regresi: {'age': 0.0, 'sex': 0.052470068038687145, 'bmi': 0.1725150919027385, 'bp': 0.05934189947654689, 's1': 0.07269806362285536, 's2': 0.011957330477242234, 's3': 0.06648380970673262, 's4': 0.09566109438992854, 's5': 0.14856135814350724, 's6': 0.10801119792691694}\n"
     ]
    }
   ],
   "source": [
    "# 3️⃣ MI untuk Regresi (Dataset Diabetes)\n",
    "\n",
    "# Load dataset Diabetes\n",
    "diabetes = load_diabetes()\n",
    "X = diabetes.data\n",
    "y = diabetes.target\n",
    "feature_names = diabetes.feature_names\n",
    "\n",
    "# Hitung Mutual Information untuk regresi\n",
    "mi_scores = mutual_info_regression(X, y)\n",
    "\n",
    "# Tampilkan skor MI untuk setiap fitur\n",
    "mi_dict = dict(zip(feature_names, mi_scores))\n",
    "print(\"Mutual Information untuk Regresi:\", mi_dict)\n",
    "\n",
    "# 🔹 MI juga bisa dipakai untuk regresi buat menentukan fitur yang paling berpengaruh."
   ]
  },
  {
   "cell_type": "code",
   "execution_count": 11,
   "metadata": {},
   "outputs": [
    {
     "name": "stdout",
     "output_type": "stream",
     "text": [
      "Fitur yang dipilih: ['sex' 's4']\n"
     ]
    }
   ],
   "source": [
    "# 4️⃣ Pilih Fitur Terbaik dengan MI\n",
    "\n",
    "from sklearn.feature_selection import SelectKBest\n",
    "\n",
    "# Pilih 2 fitur terbaik berdasarkan MI\n",
    "selector = SelectKBest(mutual_info_classif, k=2)\n",
    "X_selected = selector.fit_transform(X, y)\n",
    "\n",
    "# Cek fitur yang dipilih\n",
    "selected_features = np.array(feature_names)[selector.get_support()]\n",
    "print(f\"Fitur yang dipilih: {selected_features}\")\n"
   ]
  },
  {
   "cell_type": "code",
   "execution_count": null,
   "metadata": {},
   "outputs": [],
   "source": []
  }
 ],
 "metadata": {
  "kernelspec": {
   "display_name": "Python (env_ml)",
   "language": "python",
   "name": "env_ml"
  },
  "language_info": {
   "codemirror_mode": {
    "name": "ipython",
    "version": 3
   },
   "file_extension": ".py",
   "mimetype": "text/x-python",
   "name": "python",
   "nbconvert_exporter": "python",
   "pygments_lexer": "ipython3",
   "version": "3.12.3"
  }
 },
 "nbformat": 4,
 "nbformat_minor": 2
}
