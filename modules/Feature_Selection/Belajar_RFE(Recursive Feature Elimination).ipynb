{
 "cells": [
  {
   "cell_type": "code",
   "execution_count": 1,
   "metadata": {},
   "outputs": [
    {
     "name": "stdout",
     "output_type": "stream",
     "text": [
      "Fitur asli: ['sepal length (cm)', 'sepal width (cm)', 'petal length (cm)', 'petal width (cm)']\n"
     ]
    }
   ],
   "source": [
    "# 1️⃣ Import Library & Load Dataset\n",
    "import numpy as np\n",
    "import pandas as pd\n",
    "from sklearn.datasets import load_iris\n",
    "from sklearn.ensemble import RandomForestClassifier\n",
    "from sklearn.feature_selection import RFE\n",
    "from sklearn.model_selection import train_test_split\n",
    "\n",
    "# Load dataset Iris\n",
    "iris = load_iris()\n",
    "X = iris.data\n",
    "y = iris.target\n",
    "\n",
    "# Tampilkan nama fitur\n",
    "feature_names = iris.feature_names\n",
    "print(\"Fitur asli:\", feature_names)\n"
   ]
  },
  {
   "cell_type": "code",
   "execution_count": 2,
   "metadata": {},
   "outputs": [
    {
     "name": "stdout",
     "output_type": "stream",
     "text": [
      "Fitur yang dipilih: ['petal length (cm)' 'petal width (cm)']\n"
     ]
    }
   ],
   "source": [
    "# 2️⃣ Buat Model & Terapkan RFE\n",
    "\n",
    "# Model yang akan digunakan (Random Forest)\n",
    "model = RandomForestClassifier(n_estimators=100, random_state=42)\n",
    "\n",
    "# Inisialisasi RFE (misalnya kita ingin memilih 2 fitur terbaik)\n",
    "rfe = RFE(estimator=model, n_features_to_select=2)\n",
    "\n",
    "# Fit RFE ke data\n",
    "rfe.fit(X, y)\n",
    "\n",
    "# Cek fitur yang dipilih\n",
    "selected_features = np.array(feature_names)[rfe.support_]\n",
    "print(f\"Fitur yang dipilih: {selected_features}\")\n"
   ]
  },
  {
   "cell_type": "code",
   "execution_count": null,
   "metadata": {},
   "outputs": [
    {
     "name": "stdout",
     "output_type": "stream",
     "text": [
      "Ranking tiap fitur: {'sepal length (cm)': 2, 'sepal width (cm)': 3, 'petal length (cm)': 1, 'petal width (cm)': 1}\n"
     ]
    }
   ],
   "source": [
    "# 3️⃣ Ranking Fitur\n",
    "\n",
    "# Tampilkan ranking tiap fitur\n",
    "ranking = dict(zip(feature_names, rfe.ranking_))\n",
    "print(\"Ranking tiap fitur:\", ranking)\n"
   ]
  },
  {
   "cell_type": "code",
   "execution_count": 4,
   "metadata": {},
   "outputs": [
    {
     "name": "stdout",
     "output_type": "stream",
     "text": [
      "Akurasi model dengan fitur terpilih: 1.00\n"
     ]
    }
   ],
   "source": [
    "# 4️⃣ Split Data & Evaluasi Model dengan Fitur Terpilih\n",
    "# Ambil hanya fitur yang dipilih oleh RFE\n",
    "X_selected = rfe.transform(X)\n",
    "\n",
    "# Split data\n",
    "X_train, X_test, y_train, y_test = train_test_split(X_selected, y, test_size=0.2, random_state=42)\n",
    "\n",
    "# Latih model dengan fitur yang sudah terseleksi\n",
    "model.fit(X_train, y_train)\n",
    "\n",
    "# Evaluasi akurasi model\n",
    "accuracy = model.score(X_test, y_test)\n",
    "print(f\"Akurasi model dengan fitur terpilih: {accuracy:.2f}\")\n"
   ]
  },
  {
   "cell_type": "markdown",
   "metadata": {},
   "source": [
    "# Ganti Model dan Ganti Dataset\n",
    "\n",
    "#### 🔥 Implementasi RFE dengan Dataset Diabetes & SVM\n",
    "#### Langkah-langkahnya mirip seperti sebelumnya, tapi kita bakal:\n",
    "#### ✅ Pakai dataset diabetes dari sklearn.datasets.load_diabetes\n",
    "#### ✅ Pakai model SVM sebagai estimator di RFE"
   ]
  },
  {
   "cell_type": "code",
   "execution_count": 6,
   "metadata": {},
   "outputs": [
    {
     "name": "stdout",
     "output_type": "stream",
     "text": [
      "Jumlah fitur sebelum RFE: 10\n",
      "Fitur asli: ['age', 'sex', 'bmi', 'bp', 's1', 's2', 's3', 's4', 's5', 's6']\n"
     ]
    }
   ],
   "source": [
    "# 1️⃣ Import Library & Load Dataset\n",
    "import numpy as np\n",
    "import pandas as pd\n",
    "from sklearn.datasets import load_diabetes\n",
    "from sklearn.svm import SVR\n",
    "from sklearn.feature_selection import RFE\n",
    "from sklearn.model_selection import train_test_split\n",
    "\n",
    "# Load dataset Diabetes\n",
    "diabetes = load_diabetes()\n",
    "X = diabetes.data\n",
    "y = diabetes.target\n",
    "feature_names = diabetes.feature_names\n",
    "\n",
    "# Cek jumlah fitur awal\n",
    "print(f\"Jumlah fitur sebelum RFE: {X.shape[1]}\")\n",
    "print(\"Fitur asli:\", feature_names)\n"
   ]
  },
  {
   "cell_type": "code",
   "execution_count": 10,
   "metadata": {},
   "outputs": [
    {
     "name": "stdout",
     "output_type": "stream",
     "text": [
      "Fitur yang dipilih: ['bmi' 'bp' 's3' 's4' 's5']\n"
     ]
    }
   ],
   "source": [
    "# 2️⃣ Terapkan RFE dengan Model SVM\n",
    "\n",
    "# Gunakan model SVM dengan kernel linear untuk seleksi fitur\n",
    "svm_model = SVR(kernel=\"linear\")\n",
    "\n",
    "# Inisialisasi RFE untuk memilih 5 fitur terbaik\n",
    "rfe = RFE(estimator=svm_model, n_features_to_select=5)\n",
    "\n",
    "# Fit RFE ke data\n",
    "rfe.fit(X, y)\n",
    "\n",
    "# Cek fitur yang dipilih\n",
    "selected_features = np.array(feature_names)[rfe.support_]\n",
    "print(f\"Fitur yang dipilih: {selected_features}\")\n"
   ]
  },
  {
   "cell_type": "code",
   "execution_count": 11,
   "metadata": {},
   "outputs": [
    {
     "name": "stdout",
     "output_type": "stream",
     "text": [
      "\n",
      "Ranking tiap fitur: {'age': 4, 'sex': 6, 'bmi': 1, 'bp': 1, 's1': 3, 's2': 5, 's3': 1, 's4': 1, 's5': 1, 's6': 2}\n"
     ]
    }
   ],
   "source": [
    "# 3️⃣ Cek Ranking Setiap Fitur\n",
    "# Tampilkan ranking fitur\n",
    "ranking = dict(zip(feature_names, rfe.ranking_))\n",
    "print(\"\\nRanking tiap fitur:\", ranking)"
   ]
  },
  {
   "cell_type": "code",
   "execution_count": 12,
   "metadata": {},
   "outputs": [
    {
     "name": "stdout",
     "output_type": "stream",
     "text": [
      "Score model SVM dengan fitur terpilih: 0.02\n"
     ]
    }
   ],
   "source": [
    "# Transformasi dataset dengan fitur yang sudah terseleksi\n",
    "X_selected = rfe.transform(X)\n",
    "\n",
    "# Split data menjadi train & test\n",
    "X_train, X_test, y_train, y_test = train_test_split(X_selected, y, test_size=0.2, random_state=42)\n",
    "\n",
    "# Latih model SVM dengan fitur yang sudah terseleksi\n",
    "svm_model.fit(X_train, y_train)\n",
    "\n",
    "# Evaluasi model\n",
    "score = svm_model.score(X_test, y_test)\n",
    "print(f\"Score model SVM dengan fitur terpilih: {score:.2f}\")\n"
   ]
  },
  {
   "cell_type": "code",
   "execution_count": null,
   "metadata": {},
   "outputs": [],
   "source": []
  }
 ],
 "metadata": {
  "kernelspec": {
   "display_name": "Python (env_ml)",
   "language": "python",
   "name": "env_ml"
  },
  "language_info": {
   "codemirror_mode": {
    "name": "ipython",
    "version": 3
   },
   "file_extension": ".py",
   "mimetype": "text/x-python",
   "name": "python",
   "nbconvert_exporter": "python",
   "pygments_lexer": "ipython3",
   "version": "3.12.3"
  }
 },
 "nbformat": 4,
 "nbformat_minor": 2
}
