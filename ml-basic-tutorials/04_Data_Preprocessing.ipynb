{
 "cells": [
  {
   "cell_type": "markdown",
   "id": "5ecc58a9-6c3e-4e28-bb30-22fd7c1c5724",
   "metadata": {},
   "source": [
    "## Sample data"
   ]
  },
  {
   "cell_type": "code",
   "execution_count": 1,
   "id": "40e44ba2-acaf-46f9-ab6a-85166812088e",
   "metadata": {},
   "outputs": [
    {
     "data": {
      "text/plain": [
       "array([[ 2.1, -1.9,  5.5],\n",
       "       [-1.5,  2.4,  3.5],\n",
       "       [ 0.5, -7.9,  5.6],\n",
       "       [ 5.9,  2.3, -5.8]])"
      ]
     },
     "execution_count": 1,
     "metadata": {},
     "output_type": "execute_result"
    }
   ],
   "source": [
    "import numpy as np\n",
    "from sklearn import preprocessing\n",
    "\n",
    "sample_data = np.array([[2.1, -1.9, 5.5],\n",
    "                       [-1.5, 2.4, 3.5],\n",
    "                       [0.5, -7.9, 5.6],\n",
    "                       [5.9, 2.3, -5.8]])\n",
    "sample_data"
   ]
  },
  {
   "cell_type": "code",
   "execution_count": 2,
   "id": "2b2adb68-4cf8-47f7-8a09-3e6a105ac726",
   "metadata": {
    "scrolled": true
   },
   "outputs": [
    {
     "data": {
      "text/plain": [
       "(4, 3)"
      ]
     },
     "execution_count": 2,
     "metadata": {},
     "output_type": "execute_result"
    }
   ],
   "source": [
    "sample_data.shape"
   ]
  },
  {
   "cell_type": "markdown",
   "id": "3adc1cde-616c-487e-8334-5c182c0c3b50",
   "metadata": {},
   "source": [
    "## Teknik data preproccesing 1"
   ]
  },
  {
   "cell_type": "markdown",
   "id": "621fecff-065b-4696-8994-3427fad606f5",
   "metadata": {},
   "source": [
    "### Binarisation"
   ]
  },
  {
   "cell_type": "code",
   "execution_count": 3,
   "id": "e4603953-4fcf-4349-bfd5-e84989d759ba",
   "metadata": {},
   "outputs": [
    {
     "data": {
      "text/plain": [
       "array([[ 2.1, -1.9,  5.5],\n",
       "       [-1.5,  2.4,  3.5],\n",
       "       [ 0.5, -7.9,  5.6],\n",
       "       [ 5.9,  2.3, -5.8]])"
      ]
     },
     "execution_count": 3,
     "metadata": {},
     "output_type": "execute_result"
    }
   ],
   "source": [
    "sample_data"
   ]
  },
  {
   "cell_type": "code",
   "execution_count": 4,
   "id": "057e833d-e31d-40e0-9300-ce5d28954ab0",
   "metadata": {},
   "outputs": [
    {
     "data": {
      "text/plain": [
       "array([[1., 0., 1.],\n",
       "       [0., 1., 1.],\n",
       "       [0., 0., 1.],\n",
       "       [1., 1., 0.]])"
      ]
     },
     "execution_count": 4,
     "metadata": {},
     "output_type": "execute_result"
    }
   ],
   "source": [
    "preprocessor = preprocessing.Binarizer(threshold=0.5)\n",
    "# 0.5 berarti setiap nilai lebih kecil atau sama dengna 0.5 akan di konversikan menjadi 0 \n",
    "\n",
    "binarised_data = preprocessor.transform(sample_data)\n",
    "binarised_data"
   ]
  },
  {
   "cell_type": "markdown",
   "id": "a0bdc7e7-5761-4d3f-9fcb-0eaf05627c9c",
   "metadata": {},
   "source": [
    "## Teknik data preproccesing 2"
   ]
  },
  {
   "cell_type": "markdown",
   "id": "dba2cc5e-f3b9-49e7-b4ff-f6b92ec024c0",
   "metadata": {},
   "source": [
    "### Scaling\n",
    "#### tujuan teknik Scalling ini untuk menghasilkan data numerik yang berada dalam rentang ckala tertentu\n",
    "#### Scaling dalam data preprocessing adalah proses mengubah skala nilai fitur agar lebih seimbang. \n",
    "#### Tujuan utama scaling adalah mencegah fitur dengan rentang nilai besar mendominasi fitur dengan rentang kecil dalam model machine learning."
   ]
  },
  {
   "cell_type": "code",
   "execution_count": 5,
   "id": "371b0f1b-d02c-414e-b727-518b9c8e8eef",
   "metadata": {},
   "outputs": [
    {
     "data": {
      "text/plain": [
       "array([[ 2.1, -1.9,  5.5],\n",
       "       [-1.5,  2.4,  3.5],\n",
       "       [ 0.5, -7.9,  5.6],\n",
       "       [ 5.9,  2.3, -5.8]])"
      ]
     },
     "execution_count": 5,
     "metadata": {},
     "output_type": "execute_result"
    }
   ],
   "source": [
    "sample_data"
   ]
  },
  {
   "cell_type": "markdown",
   "id": "c3893402-2e4c-4c04-81f8-f4244ba6d526",
   "metadata": {},
   "source": [
    "#### 0 = nilai terkecil dari skala yang baru\n",
    "#### 1 = nilai terbesar dari skala yang baru"
   ]
  },
  {
   "cell_type": "code",
   "execution_count": 13,
   "id": "f6c0d325-0804-4256-b0e2-bf74d8625d1e",
   "metadata": {},
   "outputs": [
    {
     "data": {
      "text/plain": [
       "array([[0.48648649, 0.58252427, 0.99122807],\n",
       "       [0.        , 1.        , 0.81578947],\n",
       "       [0.27027027, 0.        , 1.        ],\n",
       "       [1.        , 0.99029126, 0.        ]])"
      ]
     },
     "execution_count": 13,
     "metadata": {},
     "output_type": "execute_result"
    }
   ],
   "source": [
    "preprocessor = preprocessing.MinMaxScaler(feature_range=(0, 1))\n",
    "preprocessor.fit(sample_data)\n",
    "\n",
    "scaled_data = preprocessor.transform(sample_data)\n",
    "scaled_data"
   ]
  },
  {
   "cell_type": "markdown",
   "id": "d4922d1e-4b1c-4130-8863-8973976bda67",
   "metadata": {},
   "source": [
    "#### Mengabungkan proses fitting dan proses transform"
   ]
  },
  {
   "cell_type": "code",
   "execution_count": 12,
   "id": "1c2120e0-6b04-498c-bd83-90aa939832f4",
   "metadata": {
    "scrolled": true
   },
   "outputs": [
    {
     "data": {
      "text/plain": [
       "array([[0.48648649, 0.58252427, 0.99122807],\n",
       "       [0.        , 1.        , 0.81578947],\n",
       "       [0.27027027, 0.        , 1.        ],\n",
       "       [1.        , 0.99029126, 0.        ]])"
      ]
     },
     "execution_count": 12,
     "metadata": {},
     "output_type": "execute_result"
    }
   ],
   "source": [
    "scaled_data = preprocessor.fit_transform(sample_data)\n",
    "scaled_data"
   ]
  },
  {
   "cell_type": "markdown",
   "id": "d4570885-20b3-4324-863d-f7c2f185bbe3",
   "metadata": {},
   "source": [
    "## Teknik data preproccesing 3 dan 4"
   ]
  },
  {
   "cell_type": "markdown",
   "id": "d48005cd-7f13-44d9-9c43-af4cdb9a4dbf",
   "metadata": {},
   "source": [
    "### L1 Normalisation: Least Absolute Deviations"
   ]
  },
  {
   "cell_type": "markdown",
   "id": "cad09432-0d5f-4261-9b76-0acb3db73233",
   "metadata": {},
   "source": [
    "#### Tujuan utama dari teknik untuk melakukan normalisasi terhadap data numerik yang kita miliki"
   ]
  },
  {
   "cell_type": "code",
   "execution_count": 16,
   "id": "06540bc8-fc23-4575-b50f-3c393eb6c190",
   "metadata": {
    "scrolled": true
   },
   "outputs": [
    {
     "data": {
      "text/plain": [
       "array([[ 2.1, -1.9,  5.5],\n",
       "       [-1.5,  2.4,  3.5],\n",
       "       [ 0.5, -7.9,  5.6],\n",
       "       [ 5.9,  2.3, -5.8]])"
      ]
     },
     "execution_count": 16,
     "metadata": {},
     "output_type": "execute_result"
    }
   ],
   "source": [
    "sample_data"
   ]
  },
  {
   "cell_type": "code",
   "execution_count": 18,
   "id": "c412d01b-7a66-4450-9806-e73f12d9523c",
   "metadata": {
    "scrolled": true
   },
   "outputs": [
    {
     "data": {
      "text/plain": [
       "array([[ 0.22105263, -0.2       ,  0.57894737],\n",
       "       [-0.2027027 ,  0.32432432,  0.47297297],\n",
       "       [ 0.03571429, -0.56428571,  0.4       ],\n",
       "       [ 0.42142857,  0.16428571, -0.41428571]])"
      ]
     },
     "execution_count": 18,
     "metadata": {},
     "output_type": "execute_result"
    }
   ],
   "source": [
    "l1_normalised_data = preprocessing.normalize(sample_data, norm='l1')\n",
    "l1_normalised_data"
   ]
  },
  {
   "cell_type": "markdown",
   "id": "5e135b57-2206-4ce9-a453-1c873915d2da",
   "metadata": {},
   "source": [
    "### L2 Normalisation: Least Squares"
   ]
  },
  {
   "cell_type": "markdown",
   "id": "e842b348-6467-4fb3-8e49-2cd0ed6f6d29",
   "metadata": {},
   "source": [
    "#### Mengubah nilai dalam satu baris agar panjang (magnitude) vektornya jadi 1."
   ]
  },
  {
   "cell_type": "code",
   "execution_count": 20,
   "id": "886cc910-6a17-421d-a36e-4337f11436b4",
   "metadata": {
    "scrolled": true
   },
   "outputs": [
    {
     "data": {
      "text/plain": [
       "array([[ 2.1, -1.9,  5.5],\n",
       "       [-1.5,  2.4,  3.5],\n",
       "       [ 0.5, -7.9,  5.6],\n",
       "       [ 5.9,  2.3, -5.8]])"
      ]
     },
     "execution_count": 20,
     "metadata": {},
     "output_type": "execute_result"
    }
   ],
   "source": [
    "sample_data"
   ]
  },
  {
   "cell_type": "code",
   "execution_count": 21,
   "id": "8792d048-f587-4190-a4d3-7d7849e52ae5",
   "metadata": {
    "scrolled": true
   },
   "outputs": [
    {
     "data": {
      "text/plain": [
       "array([[ 0.33946114, -0.30713151,  0.88906489],\n",
       "       [-0.33325106,  0.53320169,  0.7775858 ],\n",
       "       [ 0.05156558, -0.81473612,  0.57753446],\n",
       "       [ 0.68706914,  0.26784051, -0.6754239 ]])"
      ]
     },
     "execution_count": 21,
     "metadata": {},
     "output_type": "execute_result"
    }
   ],
   "source": [
    "l1_normalised_data = preprocessing.normalize(sample_data, norm='l2')\n",
    "l1_normalised_data"
   ]
  },
  {
   "cell_type": "code",
   "execution_count": null,
   "id": "4cf5f491-2643-4986-83cf-aa6e8bbcc122",
   "metadata": {},
   "outputs": [],
   "source": [
    "📌 L1 Normalisation → Memastikan total nilai absolut dalam satu baris jadi 1.\n",
    "📌 L2 Normalisation → Memastikan panjang vektor dalam satu baris jadi 1."
   ]
  }
 ],
 "metadata": {
  "kernelspec": {
   "display_name": "Python 3 (ipykernel)",
   "language": "python",
   "name": "python3"
  },
  "language_info": {
   "codemirror_mode": {
    "name": "ipython",
    "version": 3
   },
   "file_extension": ".py",
   "mimetype": "text/x-python",
   "name": "python",
   "nbconvert_exporter": "python",
   "pygments_lexer": "ipython3",
   "version": "3.12.7"
  }
 },
 "nbformat": 4,
 "nbformat_minor": 5
}
