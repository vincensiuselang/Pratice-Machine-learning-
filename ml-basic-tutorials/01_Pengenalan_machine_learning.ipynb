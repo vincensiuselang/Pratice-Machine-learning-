{
 "cells": [
  {
   "cell_type": "markdown",
   "id": "c9802a3a-1ded-430d-94ad-4d4edcbf601c",
   "metadata": {},
   "source": [
    "## Apa itu Machine learning"
   ]
  },
  {
   "cell_type": "markdown",
   "id": "369f149d-7cd5-4600-b865-0b2029b99575",
   "metadata": {},
   "source": [
    "#### Machine learning adalah bidang ilmu yang memampukan suatu program komputer untuk belajar dari sekumpulan data"
   ]
  },
  {
   "cell_type": "markdown",
   "id": "971bad38-e5b5-4a7c-8cdb-d49913860871",
   "metadata": {},
   "source": [
    "## Larning Problem"
   ]
  },
  {
   "cell_type": "markdown",
   "id": "b96584db-58a5-4611-97e8-9dd9f5b8420c",
   "metadata": {},
   "source": [
    "#### Learning problem dalam konteks machine learning (ML) melimbatkan suatu dataset (terdiri dari sejumlah n sample data) untuk melakukan prediksi terhadap properties yang tidak diketahui pada dataset lain yang sejenis"
   ]
  },
  {
   "cell_type": "markdown",
   "id": "3eb300bc-1336-44bd-ac80-f53c2e77771e",
   "metadata": {
    "jp-MarkdownHeadingCollapsed": true
   },
   "source": [
    "#### Learning problem di bagi menjadi 2 yaitu supervised learning dan unsupervised learning"
   ]
  },
  {
   "cell_type": "markdown",
   "id": "103b67ab-c80a-4a44-bc2b-254d51bdc97a",
   "metadata": {},
   "source": [
    "#### Pada supervised learning problem, program mempredikisi suatu nilai output untuk suatu input berdasarkan proses learning dengan memanfaatkan sekumpulan data yang terbagi dalam dua label, yaitu input dan output. disini program melakukan learning dari sekumpulan contoh kasus yang menyertakan \"Jawaban benar\""
   ]
  },
  {
   "cell_type": "markdown",
   "id": "40713f37-a8b6-4b4c-aca6-c927396f5b49",
   "metadata": {},
   "source": [
    "#### Pada unsupervised learning problem, program tidak melakukan learning dari labeled data; melainkan mencoba menemukan pola (patterns) pada data. di sini program melakukan learning dari sekumpulan contoh kasus tanpa di sertai \"Jawaban benar\""
   ]
  },
  {
   "cell_type": "markdown",
   "id": "c17203da-3a05-4e91-852e-94ab94e5f26d",
   "metadata": {},
   "source": [
    "## Terminologi Dasar pada Supervised Learning"
   ]
  },
  {
   "cell_type": "markdown",
   "id": "767c2695-3c65-4526-af04-c4ee170e5016",
   "metadata": {},
   "source": [
    "- Output : Label, response variable, dependent variable, regressand, criterion variable, measured variable, responding variabel, expalind variabel, outcome variable, experimental variable, dan output variable.\n",
    "- input : features, explanatory variable, predictors, regressors, controlled variables, and exposure variables.\n",
    "- Training set: Sekumpulan \"Contoh\" yang di gunakan untuk proses learning (Training) pada supervised learning.\n",
    "- test set : Sekumpulan \"Contoh\" yang digunakan untuk mengukur perfoma pada supervised learning.\n",
    "- Pada supervised learning, response variable bisa di analogikan sebagai kunci jawaban dan explanatory variables bisa di analogikan sebagai pertanyaannya. "
   ]
  },
  {
   "cell_type": "markdown",
   "id": "315edd1b-689b-4e51-bd99-2384d82b53f0",
   "metadata": {},
   "source": [
    "# Featurenya itu x dan target itu y \n",
    "# ✅ X = Fitur/Input (Data yang dimasukkan ke model ML).\n",
    "# ✅ y = Label/Target (Jawaban yang mau diprediksi model).\n"
   ]
  },
  {
   "cell_type": "markdown",
   "id": "f3f69794-caed-418e-80f7-136578461194",
   "metadata": {},
   "source": [
    "## Supervised machine learning Tasks"
   ]
  },
  {
   "cell_type": "markdown",
   "id": "235226b7-ecee-4474-b870-227445bcdd75",
   "metadata": {},
   "source": [
    "- secara umum terdapat 2 jenis supervised machine learning tasks, yaitu Classification dan Regression.\n",
    "- Classification tasks menekankan pada proses learning (Training) untuk melakukan prediksi nilai discrete (i,e.., category, class, label) dari sejumlah features.\n",
    "- Regression tasks menekankan pada proses learning (training) untuk melakukan prediksi nilai continous (floating point) dari sejumlah features\n",
    "- Classification itu kayak dukun yang nebak penyakit pasien tapi jawabannya selalu dari daftar tertentu. Misalnya: flu, demam, atau batuk. Jadi dia cuma pilih dari kategori yang udah ada.\n",
    "- Regression itu kayak dukun yang nebak berapa derajat panas badan pasiennya. Bisa 37.5°C, 38.2°C, atau 39.1°C—jadi hasilnya angka yang bisa berubah-ubah, bukan kategori tetap."
   ]
  },
  {
   "cell_type": "markdown",
   "id": "f5762753-7907-4296-8973-82f0c45cc111",
   "metadata": {},
   "source": [
    "## Unsupervised machine learning tasks"
   ]
  },
  {
   "cell_type": "markdown",
   "id": "6e82ed28-dfea-488a-a880-3f2cec7b3961",
   "metadata": {},
   "source": [
    "- Terdapat beberapa Unsupervised Machine learning tasks dan kita akan berfokus pada dua tasks, yaitu Clustering dan Dimensionality Reduction\n",
    "- Clustering tasks menekankan pada proses explorasi data untuk menemukan kelompok (Group) pada data berdasarkan kemiripan (Kedekatan) karakteristik.\n",
    "- clustering itu kaya Jadi dukun gak tahu nama penyakitnya, tapi dia bisa ngelompokin orang-orang yang punya gejala mirip! Itu yang disebut Clustering! 🔥\n",
    "- dimensionality Reduction tasks menekankan pada proses explorasi data untuk menemukan sejumlah features yang paling berdampak terhadap response variable."
   ]
  }
 ],
 "metadata": {
  "kernelspec": {
   "display_name": "Python 3 (ipykernel)",
   "language": "python",
   "name": "python3"
  },
  "language_info": {
   "codemirror_mode": {
    "name": "ipython",
    "version": 3
   },
   "file_extension": ".py",
   "mimetype": "text/x-python",
   "name": "python",
   "nbconvert_exporter": "python",
   "pygments_lexer": "ipython3",
   "version": "3.12.7"
  }
 },
 "nbformat": 4,
 "nbformat_minor": 5
}
