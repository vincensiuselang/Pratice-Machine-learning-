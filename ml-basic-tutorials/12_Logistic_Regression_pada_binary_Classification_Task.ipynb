{
 "cells": [
  {
   "cell_type": "markdown",
   "id": "b3157854-3408-4a53-85c5-0c9466c90a4c",
   "metadata": {},
   "source": [
    "## 12 Logistic Regression pada binary Classification Task "
   ]
  },
  {
   "cell_type": "markdown",
   "id": "fb8ea76f-e831-4e8f-909f-c0ccbe2091da",
   "metadata": {},
   "source": [
    "## Formula dasar"
   ]
  },
  {
   "cell_type": "markdown",
   "id": "9e69c2d7-53ae-4662-a1f3-78730fceab80",
   "metadata": {
    "jp-MarkdownHeadingCollapsed": true
   },
   "source": [
    "### Simple Linear Regression\n",
    "- y = a + Bx\n",
    "- g(x) = a + bx"
   ]
  },
  {
   "cell_type": "markdown",
   "id": "fee31237-fdd8-44c1-afe3-d9da8fc4c305",
   "metadata": {},
   "source": [
    "### Multiple Linear Regression\n",
    "- y = a + B1X1 + B2X2 + ... + BnXn\n",
    "- g(X) = a + bX"
   ]
  },
  {
   "cell_type": "markdown",
   "id": "bbd6ae5c-0d64-4391-afc2-ff550008c9c7",
   "metadata": {},
   "source": [
    "### Logistic Linear Regression\n",
    "- g(X) = sigmoid(a + B X)\n",
    "- sigmoid(x) = 1 per 1+exp(-x)"
   ]
  },
  {
   "cell_type": "markdown",
   "id": "faa56fe8-fcf4-443d-9d53-70eb8f390f0f",
   "metadata": {},
   "source": [
    "## Dataset: SMS Spam Collection Data Set"
   ]
  },
  {
   "cell_type": "code",
   "execution_count": 4,
   "id": "13d48fcc-076e-43eb-8707-7c457ac4ce75",
   "metadata": {},
   "outputs": [
    {
     "data": {
      "text/html": [
       "<div>\n",
       "<style scoped>\n",
       "    .dataframe tbody tr th:only-of-type {\n",
       "        vertical-align: middle;\n",
       "    }\n",
       "\n",
       "    .dataframe tbody tr th {\n",
       "        vertical-align: top;\n",
       "    }\n",
       "\n",
       "    .dataframe thead th {\n",
       "        text-align: right;\n",
       "    }\n",
       "</style>\n",
       "<table border=\"1\" class=\"dataframe\">\n",
       "  <thead>\n",
       "    <tr style=\"text-align: right;\">\n",
       "      <th></th>\n",
       "      <th>label</th>\n",
       "      <th>sms</th>\n",
       "    </tr>\n",
       "  </thead>\n",
       "  <tbody>\n",
       "    <tr>\n",
       "      <th>0</th>\n",
       "      <td>ham</td>\n",
       "      <td>Go until jurong point, crazy.. Available only ...</td>\n",
       "    </tr>\n",
       "    <tr>\n",
       "      <th>1</th>\n",
       "      <td>ham</td>\n",
       "      <td>Ok lar... Joking wif u oni...</td>\n",
       "    </tr>\n",
       "    <tr>\n",
       "      <th>2</th>\n",
       "      <td>spam</td>\n",
       "      <td>Free entry in 2 a wkly comp to win FA Cup fina...</td>\n",
       "    </tr>\n",
       "    <tr>\n",
       "      <th>3</th>\n",
       "      <td>ham</td>\n",
       "      <td>U dun say so early hor... U c already then say...</td>\n",
       "    </tr>\n",
       "    <tr>\n",
       "      <th>4</th>\n",
       "      <td>ham</td>\n",
       "      <td>Nah I don't think he goes to usf, he lives aro...</td>\n",
       "    </tr>\n",
       "  </tbody>\n",
       "</table>\n",
       "</div>"
      ],
      "text/plain": [
       "  label                                                sms\n",
       "0   ham  Go until jurong point, crazy.. Available only ...\n",
       "1   ham                      Ok lar... Joking wif u oni...\n",
       "2  spam  Free entry in 2 a wkly comp to win FA Cup fina...\n",
       "3   ham  U dun say so early hor... U c already then say...\n",
       "4   ham  Nah I don't think he goes to usf, he lives aro..."
      ]
     },
     "execution_count": 4,
     "metadata": {},
     "output_type": "execute_result"
    }
   ],
   "source": [
    "import pandas as pd\n",
    "\n",
    "df = pd.read_csv(r'C:\\Users\\Vince\\BELAJAR MACHINE LEARNING\\scikti learn\\dataset\\sms+spam+collection\\SMSSpamCollection',\n",
    "                 sep='\\t', # Pada kode ini, kamu menggunakan sep='\\t', yang artinya file tersebut dipisahkan dengan tab.\n",
    "                 names=['label', 'sms'])  # names adalah parameter yang digunakan untuk memberikan nama kolom pada DataFrame yang dihasilkan oleh pd.read_csv() \n",
    "df.head()\n"
   ]
  },
  {
   "cell_type": "code",
   "execution_count": 5,
   "id": "d1a17644-068d-4306-9a9b-ae7f5e1137a8",
   "metadata": {},
   "outputs": [
    {
     "data": {
      "text/plain": [
       "label\n",
       "ham     4825\n",
       "spam     747\n",
       "Name: count, dtype: int64"
      ]
     },
     "execution_count": 5,
     "metadata": {},
     "output_type": "execute_result"
    }
   ],
   "source": [
    "df['label'].value_counts()"
   ]
  },
  {
   "cell_type": "markdown",
   "id": "c84fb543-6cfe-4669-b3a2-bc3f734c5f94",
   "metadata": {},
   "source": [
    "#### Data yang ber lable ham itu ada 4825, dan bacanya sama kaya untuk di spam"
   ]
  },
  {
   "cell_type": "markdown",
   "id": "f9094fcd-290d-4e1f-b1ab-a1d474e5a1bc",
   "metadata": {},
   "source": [
    "## Training & Testing Set"
   ]
  },
  {
   "cell_type": "code",
   "execution_count": 6,
   "id": "8b43cfec-8fdb-4a21-b763-060368283748",
   "metadata": {},
   "outputs": [
    {
     "data": {
      "text/plain": [
       "array(['ham', 'spam'], dtype='<U4')"
      ]
     },
     "execution_count": 6,
     "metadata": {},
     "output_type": "execute_result"
    }
   ],
   "source": [
    "from sklearn.preprocessing import LabelBinarizer\n",
    "\n",
    "X = df['sms'].values\n",
    "y = df['label'].values\n",
    "\n",
    "lb = LabelBinarizer()\n",
    "y = lb.fit_transform(y).ravel() ## mengkonveriskan hasil dari fit_transform ke array 1 dimensi\n",
    "lb.classes_\n",
    "\n",
    "# jadi ham itu 0 dan spam itu 1"
   ]
  },
  {
   "cell_type": "code",
   "execution_count": 8,
   "id": "e6bbc0cf-465e-4470-b9b9-99aee701a2b9",
   "metadata": {},
   "outputs": [
    {
     "name": "stdout",
     "output_type": "stream",
     "text": [
      "['Its going good...no problem..but still need little experience to understand american customer voice...'\n",
      " 'U have a secret admirer. REVEAL who thinks U R So special. Call 09065174042. To opt out Reply REVEAL STOP. 1.50 per msg recd. Cust care 07821230901'\n",
      " 'Ok...' ...\n",
      " \"For ur chance to win a £250 cash every wk TXT: ACTION to 80608. T's&C's www.movietrivia.tv custcare 08712405022, 1x150p/wk\"\n",
      " 'R U &SAM P IN EACHOTHER. IF WE MEET WE CAN GO 2 MY HOUSE'\n",
      " 'Mm feeling sleepy. today itself i shall get that dear'] \n",
      "\n",
      "[0 1 0 ... 1 0 0]\n"
     ]
    }
   ],
   "source": [
    "from sklearn.model_selection import train_test_split\n",
    "\n",
    "X_train, X_test, y_train, y_test = train_test_split(\n",
    "    X,\n",
    "    y,\n",
    "    test_size=0.25,\n",
    "    random_state=0\n",
    ")\n",
    "\n",
    "print(X_train, '\\n')\n",
    "print(y_train)"
   ]
  },
  {
   "cell_type": "markdown",
   "id": "5acd7bdf-981c-4cc9-b5e5-2a8275a5388e",
   "metadata": {},
   "source": [
    "## Feature Extraction dengang TF-IDF"
   ]
  },
  {
   "cell_type": "code",
   "execution_count": 9,
   "id": "8927a077-2a09-4601-8d48-ac34bae9ae8a",
   "metadata": {},
   "outputs": [
    {
     "name": "stdout",
     "output_type": "stream",
     "text": [
      "  (0, 514)\t0.1927334001637576\n",
      "  (0, 1445)\t0.1382827072511541\n",
      "  (0, 2047)\t0.13162798135796389\n",
      "  (0, 2968)\t0.27854746638774186\n",
      "  (0, 2969)\t0.3854668003275152\n",
      "  (0, 3042)\t0.1927334001637576\n",
      "  (0, 3209)\t0.39934447916594623\n",
      "  (0, 3520)\t0.1927334001637576\n",
      "  (0, 3748)\t0.3094540850830667\n",
      "  (0, 3880)\t0.17728009081609516\n",
      "  (0, 4117)\t0.1927334001637576\n",
      "  (0, 4168)\t0.17230523637809714\n",
      "  (0, 4328)\t0.17230523637809714\n",
      "  (0, 4358)\t0.11021504619906547\n",
      "  (0, 4861)\t0.1323590112023461\n",
      "  (0, 4885)\t0.1927334001637576\n",
      "  (0, 5279)\t0.1338971667568563\n",
      "  (0, 5597)\t0.11346900297119589\n",
      "  (0, 6144)\t0.1927334001637576\n",
      "  (0, 6392)\t0.1927334001637576\n",
      "  (0, 7035)\t0.14502188177850336\n",
      "  (0, 7185)\t0.1927334001637576\n",
      "  (0, 7241)\t0.11253343579528909\n",
      "  (1, 2796)\t0.5385694788086677\n",
      "  (1, 3423)\t0.5096319958358703\n",
      "  :\t:\n",
      "  (1390, 3212)\t0.21977727352201232\n",
      "  (1390, 3469)\t0.26232724371205407\n",
      "  (1390, 4235)\t0.21599567193954447\n",
      "  (1390, 4289)\t0.2456427405190895\n",
      "  (1390, 4615)\t0.24022966937187437\n",
      "  (1390, 4746)\t0.3079773201548378\n",
      "  (1390, 4955)\t0.1954971132094156\n",
      "  (1390, 5394)\t0.18178911709262632\n",
      "  (1390, 5400)\t0.29227339217127196\n",
      "  (1390, 5981)\t0.17857459228707245\n",
      "  (1390, 6404)\t0.3079773201548378\n",
      "  (1390, 6457)\t0.29933482493204133\n",
      "  (1390, 6774)\t0.2567848547419996\n",
      "  (1390, 7022)\t0.2687973573234355\n",
      "  (1391, 2257)\t1.0\n",
      "  (1392, 952)\t0.4126278359397159\n",
      "  (1392, 1000)\t0.37954345311445\n",
      "  (1392, 1544)\t0.2920731027969941\n",
      "  (1392, 2025)\t0.30039510765968397\n",
      "  (1392, 2997)\t0.21375009217162053\n",
      "  (1392, 3176)\t0.28180569144062256\n",
      "  (1392, 4110)\t0.39327471262743224\n",
      "  (1392, 4631)\t0.1909479232071192\n",
      "  (1392, 5277)\t0.34083720648988275\n",
      "  (1392, 6467)\t0.27882155259860664\n"
     ]
    }
   ],
   "source": [
    "from sklearn.feature_extraction.text import TfidfVectorizer\n",
    "\n",
    "vectorizer = TfidfVectorizer(stop_words='english')\n",
    "\n",
    "X_train_tfidf = vectorizer.fit_transform(X_train)\n",
    "X_test_tfidf = vectorizer.transform(X_test)\n",
    "\n",
    "print(X_test_tfidf)"
   ]
  },
  {
   "cell_type": "markdown",
   "id": "40ecd324-df6b-4827-a53c-faf08e2c53f6",
   "metadata": {},
   "source": [
    "## Binary Classification dengan Logistic Regression"
   ]
  },
  {
   "cell_type": "code",
   "execution_count": 10,
   "id": "e1eab154-9d48-48c2-81c8-e926129644de",
   "metadata": {},
   "outputs": [
    {
     "name": "stdout",
     "output_type": "stream",
     "text": [
      "PRED: 0 - SMS: Storming msg: Wen u lift d phne, u say \"HELLO\" Do u knw wt is d real meaning of HELLO?? . . . It's d name of a girl..! . . . Yes.. And u knw who is dat girl?? \"Margaret Hello\" She is d girlfrnd f Grahmbell who invnted telphone... . . . . Moral:One can 4get d name of a person, bt not his girlfrnd... G o o d n i g h t . . .@\n",
      "\n",
      "PRED: 0 - SMS: <Forwarded from 448712404000>Please CALL 08712404000 immediately as there is an urgent message waiting for you.\n",
      "\n",
      "PRED: 0 - SMS: And also I've sorta blown him off a couple times recently so id rather not text him out of the blue looking for weed\n",
      "\n",
      "PRED: 0 - SMS: Sir Goodmorning, Once free call me.\n",
      "\n",
      "PRED: 0 - SMS: All will come alive.better correct any good looking figure there itself..\n",
      "\n"
     ]
    }
   ],
   "source": [
    "from sklearn.linear_model import LogisticRegression\n",
    "\n",
    "model = LogisticRegression()\n",
    "model.fit(X_train_tfidf, y_train)\n",
    "y_pred = model.predict(X_test_tfidf)\n",
    "\n",
    "for pred, sms in zip(y_pred[:5], X_test[:5]):\n",
    "    print(f'PRED: {pred} - SMS: {sms}\\n')\n",
    "\n",
    "# PRED: 0 berarti model memprediksi SMS tersebut bukan spam.\n",
    "# SMS adalah pesan yang dimasukkan ke model untuk klasifikasi."
   ]
  },
  {
   "cell_type": "markdown",
   "id": "73a564d1-ec3f-4477-84d6-ea6291096db3",
   "metadata": {},
   "source": [
    "## Evaluation Metrics pada Binary Classification\n",
    "\n",
    "- Confusion Matrix\n",
    "- Accuarcy\n",
    "- Precission & Recall\n",
    "- F1 Score\n",
    "- ROC"
   ]
  },
  {
   "cell_type": "markdown",
   "id": "a2a2801a-25c9-4141-aea9-5efe0381e076",
   "metadata": {},
   "source": [
    "## Terminologi Dasar\n",
    "#### Intinya, TP dan TN adalah saat tebakan kamu benar, sedangkan FP dan FN adalah saat tebakan kamu salah. Semakin banyak TP dan TN, semakin bagus performa tebakan kamu!\n",
    "\n",
    "\n",
    "- True Positive (TP) = Ini kayak kamu menebak \"ini adalah sesuatu yang kamu suka\" dan ternyata bener, itu memang sesuatu yang kamu suka!\n",
    "- True Negative (TN) = Ini kayak kamu menebak \"ini bukan sesuatu yang aku suka\" dan ternyata bener, itu memang bukan sesuatu yang kamu suka\n",
    "- False Positive (FP) = Ini kayak kamu menebak \"ini adalah sesuatu yang aku suka\" tapi ternyata salah, itu bukan sesuatu yang kamu suka.\n",
    "- False Negative (FN) = Ini kayak kamu menebak \"ini bukan sesuatu yang aku suka\" tapi ternyata salah, itu malah sesuatu yang kamu suka"
   ]
  },
  {
   "cell_type": "markdown",
   "id": "a0c81219-bf5e-4ae1-bcd3-a252a7271a65",
   "metadata": {},
   "source": [
    "#### Analogi\n",
    "#### TP: Kamu benar tebak 64GB, dan itu memang 64GB.\n",
    "#### TN: Kamu benar tebak 128GB, dan itu memang 128GB.\n",
    "#### FP: Kamu salah tebak 512GB, dan ternyata cuma 64GB.\n",
    "#### FN: Kamu salah tebak 64GB, padahal seharusnya 128GB."
   ]
  },
  {
   "cell_type": "markdown",
   "id": "1679e51b-764f-4a8f-b694-1bd2034c7199",
   "metadata": {},
   "source": [
    "## Confusion Matrix\n",
    "\n",
    "#### Confusion matrix seringkali juga dikenal sebagai error matrix"
   ]
  },
  {
   "cell_type": "code",
   "execution_count": 11,
   "id": "6150c8ee-bcf1-4e01-9d54-a035c274d304",
   "metadata": {
    "scrolled": true
   },
   "outputs": [
    {
     "data": {
      "text/plain": [
       "array([[1207,    1],\n",
       "       [  47,  138]], dtype=int64)"
      ]
     },
     "execution_count": 11,
     "metadata": {},
     "output_type": "execute_result"
    }
   ],
   "source": [
    "from sklearn.metrics import confusion_matrix\n",
    "\n",
    "matrix = confusion_matrix(y_test, y_pred)\n",
    "matrix"
   ]
  },
  {
   "cell_type": "code",
   "execution_count": 12,
   "id": "e0a2e0da-ef7f-44aa-8edc-9841f7b29a6a",
   "metadata": {},
   "outputs": [
    {
     "name": "stdout",
     "output_type": "stream",
     "text": [
      "TN: 1207\n",
      "FP: 1\n",
      "FN: 47\n",
      "TP: 138\n"
     ]
    }
   ],
   "source": [
    "tn, fp, fn, tp = matrix.ravel)\n",
    "\n",
    "print(f'TN: {tn}')\n",
    "print(f'FP: {fp}')\n",
    "print(f'FN: {fn}')\n",
    "print(f'TP: {tp}')"
   ]
  },
  {
   "cell_type": "code",
   "execution_count": 13,
   "id": "f0d06d16-04d5-4544-ad5e-e753760cf218",
   "metadata": {},
   "outputs": [
    {
     "data": {
      "image/png": "[encoded data removed]",
      "text/plain": [
       "<Figure size 480x480 with 2 Axes>"
      ]
     },
     "metadata": {},
     "output_type": "display_data"
    }
   ],
   "source": [
    "import matplotlib.pyplot as plt\n",
    "\n",
    "plt.matshow(matrix, cmap='Blues')\n",
    "plt.colorbar()\n",
    "plt.title('Confusion Matrix')\n",
    "plt.ylabel('True label')\n",
    "plt.xlabel('Predicted label')\n",
    "plt.show()\n",
    "\n",
    "# Warna kuning cerah (1207, di pojok kiri atas) → True Negative (TN), jumlahnya paling banyak.\n",
    "# Warna ungu tua (1, di pojok kanan atas) → False Positive (FP), jumlahnya paling sedikit.\n"
   ]
  },
  {
   "cell_type": "code",
   "execution_count": 14,
   "id": "342de3f9-d939-4639-b231-a554cff2af8f",
   "metadata": {},
   "outputs": [
    {
     "data": {
      "image/png": "[encoded data removed]",
      "text/plain": [
       "<Figure size 640x480 with 2 Axes>"
      ]
     },
     "metadata": {},
     "output_type": "display_data"
    }
   ],
   "source": [
    "import seaborn as sns  \n",
    "sns.heatmap(matrix, annot=True, cmap='Blues', fmt='d', cbar=True)  \n",
    "plt.title('Confusion Matrix')\n",
    "plt.ylabel('True label')\n",
    "plt.xlabel('Predicted label')\n",
    "plt.show()\n"
   ]
  },
  {
   "cell_type": "markdown",
   "id": "15d80ed4-2cb9-422d-b3dc-0c5c6b9713b5",
   "metadata": {},
   "source": [
    "## Accuracy \n",
    "#### Accuracy mengukur porsi dari hasil prediksi yang tepat.\n",
    "#### Accuracy = TP + TN per TP + TN + FP + FN = correct per total"
   ]
  },
  {
   "cell_type": "code",
   "execution_count": 15,
   "id": "d31c7d11-23d9-45ba-a122-4cd3a1abfadc",
   "metadata": {},
   "outputs": [
    {
     "data": {
      "text/plain": [
       "0.9655419956927495"
      ]
     },
     "execution_count": 15,
     "metadata": {},
     "output_type": "execute_result"
    }
   ],
   "source": [
    "from sklearn.metrics import accuracy_score\n",
    "\n",
    "accuracy_score(y_test, y_pred)"
   ]
  },
  {
   "cell_type": "markdown",
   "id": "1710b46c-194e-46ce-bcc7-a2177c3b4f1a",
   "metadata": {},
   "source": [
    "## Precission & Recall\n",
    "\n",
    "#### Selain menggunakan accuracy, performa dari suatu classifier umumnya juga diukur berdasarkan nilai Precission dan recall."
   ]
  },
  {
   "cell_type": "markdown",
   "id": "3177c30a-ab17-4c15-bf7e-1cd99aa684cd",
   "metadata": {},
   "source": [
    "## Precission or Positive Predict Value (PPV)\n",
    "\n",
    "#### Precission = TP per TP+FP"
   ]
  },
  {
   "cell_type": "code",
   "execution_count": 16,
   "id": "064188c9-034d-4e9b-83ae-86a5b7999447",
   "metadata": {},
   "outputs": [
    {
     "data": {
      "text/plain": [
       "0.9928057553956835"
      ]
     },
     "execution_count": 16,
     "metadata": {},
     "output_type": "execute_result"
    }
   ],
   "source": [
    "from sklearn.metrics import precision_score\n",
    "\n",
    "precision_score(y_test, y_pred)"
   ]
  },
  {
   "cell_type": "markdown",
   "id": "62bfc4cb-fec2-4133-98f6-b2b2eff723ae",
   "metadata": {},
   "source": [
    "## recall or True Positive Rate (TPR) or sensitivity\n",
    "\n",
    "#### Recall = TP per TP+FN"
   ]
  },
  {
   "cell_type": "code",
   "execution_count": 17,
   "id": "134a7940-2f5b-4ed8-bb1b-ab1e2df62490",
   "metadata": {},
   "outputs": [
    {
     "data": {
      "text/plain": [
       "0.745945945945946"
      ]
     },
     "execution_count": 17,
     "metadata": {},
     "output_type": "execute_result"
    }
   ],
   "source": [
    "from sklearn.metrics import recall_score\n",
    "\n",
    "recall_score(y_test, y_pred)"
   ]
  },
  {
   "cell_type": "markdown",
   "id": "6cda7a20-a147-4576-8b50-25116fe206c8",
   "metadata": {},
   "source": [
    "## F1-SCORE\n",
    "#### F1-Score atau F1-measure adalah harmonic mean dari precission dan recall."
   ]
  },
  {
   "cell_type": "markdown",
   "id": "a5daf2a4-4a25-4597-8395-2b706659cf80",
   "metadata": {},
   "source": [
    "#### F1 score = precission X recal per precission + recall"
   ]
  },
  {
   "cell_type": "code",
   "execution_count": 18,
   "id": "5bc94d53-9170-42be-982c-4d20616baf89",
   "metadata": {},
   "outputs": [
    {
     "data": {
      "text/plain": [
       "0.8518518518518519"
      ]
     },
     "execution_count": 18,
     "metadata": {},
     "output_type": "execute_result"
    }
   ],
   "source": [
    "from sklearn.metrics import f1_score\n",
    "\n",
    "f1_score(y_test, y_pred)"
   ]
  },
  {
   "cell_type": "markdown",
   "id": "e3f2de02-d5f4-4e84-8f23-38e23c49659a",
   "metadata": {},
   "source": [
    "## ROC \n",
    "#### ROC menawarkan visualitasi terhadap perfoma dari classifier dengan membandingkan nilai recall (TPR) dan nilai Fallout(FPR)\n",
    "#### Fallout = FP per TN+FP"
   ]
  },
  {
   "cell_type": "code",
   "execution_count": 19,
   "id": "b5c5a180-d565-46d1-b5d7-5abd080a1c00",
   "metadata": {},
   "outputs": [
    {
     "data": {
      "image/png": "[encoded data removed]",
      "text/plain": [
       "<Figure size 640x480 with 1 Axes>"
      ]
     },
     "metadata": {},
     "output_type": "display_data"
    }
   ],
   "source": [
    "from sklearn.metrics import roc_curve, auc\n",
    "\n",
    "prob_estimates = model.predict_proba(X_test_tfidf)\n",
    "\n",
    "fpr, tpr, threshold = roc_curve(y_test, prob_estimates[:, 1])\n",
    "nilai_auc = auc(fpr, tpr)\n",
    "\n",
    "plt.plot(fpr, tpr, 'b', label=f'AUC={nilai_auc}')\n",
    "plt.plot([0, 1], [0, 1], 'r--', label='Random Classifier')\n",
    "\n",
    "plt.title('ROC: Receiver Operating Characteristic')\n",
    "plt.xlabel('Fallout or False Positive Rate')\n",
    "plt.ylabel('Recall or True Positive Rate')\n",
    "plt.legend()\n",
    "plt.show()"
   ]
  },
  {
   "cell_type": "code",
   "execution_count": null,
   "id": "c4e10334-635d-4546-9d47-deee17782eca",
   "metadata": {},
   "outputs": [],
   "source": []
  }
 ],
 "metadata": {
  "kernelspec": {
   "display_name": "Python 3 (ipykernel)",
   "language": "python",
   "name": "python3"
  },
  "language_info": {
   "codemirror_mode": {
    "name": "ipython",
    "version": 3
   },
   "file_extension": ".py",
   "mimetype": "text/x-python",
   "name": "python",
   "nbconvert_exporter": "python",
   "pygments_lexer": "ipython3",
   "version": "3.12.7"
  }
 },
 "nbformat": 4,
 "nbformat_minor": 5
}
