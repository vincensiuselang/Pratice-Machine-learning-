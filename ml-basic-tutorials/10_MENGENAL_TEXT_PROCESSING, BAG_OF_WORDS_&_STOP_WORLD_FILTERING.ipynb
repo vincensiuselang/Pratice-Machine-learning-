{
 "cells": [
  {
   "cell_type": "markdown",
   "id": "f23bc555-69c9-43f2-a207-dae0e28bd12b",
   "metadata": {},
   "source": [
    "# Bag of Words model sebagai representasi text"
   ]
  },
  {
   "cell_type": "markdown",
   "id": "fe3eb90e-916f-457e-a227-962172bcb9c6",
   "metadata": {},
   "source": [
    "#### Bag of words menyederhankan representasi text sebagai sekumpulan kata serta mengabaikan grammar dan posisi tiap kata pada kalimat. text akan dikonversi menjadi lowercase dan tanda baca diabaikan"
   ]
  },
  {
   "cell_type": "code",
   "execution_count": 1,
   "id": "f1cdad86-7534-4311-9373-ec3a265abb54",
   "metadata": {},
   "outputs": [
    {
     "data": {
      "text/plain": [
       "['Linux has been around since the mid-1990s.',\n",
       " 'Linux distributions include the linux kernel.',\n",
       " 'Linux is one of the most promient open-source software']"
      ]
     },
     "execution_count": 1,
     "metadata": {},
     "output_type": "execute_result"
    }
   ],
   "source": [
    "corpus = [\n",
    "    'Linux has been around since the mid-1990s.',\n",
    "    'Linux distributions include the linux kernel.',\n",
    "    'Linux is one of the most promient open-source software'\n",
    "]\n",
    "\n",
    "corpus"
   ]
  },
  {
   "cell_type": "markdown",
   "id": "68a851ba-a80d-4d74-b8a1-99c524162389",
   "metadata": {},
   "source": [
    "## Bags of words model dengan COUNTVECTORIZER"
   ]
  },
  {
   "cell_type": "markdown",
   "id": "f00b735d-0f83-4aff-8bdf-c65d78b96649",
   "metadata": {},
   "source": [
    "### Bag of Words model dapat diterapkan dengan memanfaatkan CountVectorizer"
   ]
  },
  {
   "cell_type": "code",
   "execution_count": 26,
   "id": "9ab8ea5b-74cc-4b8a-bbf3-a66763efe7f2",
   "metadata": {
    "scrolled": true
   },
   "outputs": [
    {
     "data": {
      "text/plain": [
       "matrix([[1, 1, 1, 0, 1, 0, 0, 0, 1, 1, 0, 0, 0, 0, 0, 1, 0, 0, 1],\n",
       "        [0, 0, 0, 1, 0, 1, 0, 1, 2, 0, 0, 0, 0, 0, 0, 0, 0, 0, 1],\n",
       "        [0, 0, 0, 0, 0, 0, 1, 0, 1, 0, 1, 1, 1, 1, 1, 0, 1, 1, 1]],\n",
       "       dtype=int64)"
      ]
     },
     "execution_count": 26,
     "metadata": {},
     "output_type": "execute_result"
    }
   ],
   "source": [
    "from sklearn.feature_extraction.text import CountVectorizer\n",
    "\n",
    "vectorizer = CountVectorizer()\n",
    "# hasil dari fit_transform itu di konversi ke array 2 dimensi menggunakan method todense() \n",
    "vectorizer_X = vectorizer.fit_transform(corpus).todense()\n",
    "vectorizer_X\n",
    "\n",
    "# 3 baris itu menrepresentasikan 3 kalimat di corpus"
   ]
  },
  {
   "cell_type": "code",
   "execution_count": 27,
   "id": "2a57d1d2-5f69-4b16-ad89-2b0a18003a1a",
   "metadata": {},
   "outputs": [
    {
     "data": {
      "text/plain": [
       "array(['1990s', 'around', 'been', 'distributions', 'has', 'include', 'is',\n",
       "       'kernel', 'linux', 'mid', 'most', 'of', 'one', 'open', 'promient',\n",
       "       'since', 'software', 'source', 'the'], dtype=object)"
      ]
     },
     "execution_count": 27,
     "metadata": {},
     "output_type": "execute_result"
    }
   ],
   "source": [
    "vectorizer.get_feature_names_out()\n",
    "\n",
    "# sudah lowercase"
   ]
  },
  {
   "cell_type": "markdown",
   "id": "c28570a9-e594-4b55-bb1f-e401adf8f458",
   "metadata": {},
   "source": [
    "## Euclidean Distance untuk mengukur kedekatan/jarak antar dokumen (Vector)"
   ]
  },
  {
   "cell_type": "code",
   "execution_count": null,
   "id": "467e8cc5-1e45-4bf4-9ad3-89d11d797202",
   "metadata": {},
   "outputs": [],
   "source": [
    "# Error\n",
    "from sklearn.metrics.pairwise import euclidean_distances\n",
    "\n",
    "for i in range(len(vectorizer_X)):\n",
    "    for j in range(i, len(vectorizer_X)):\n",
    "        if i == j:\n",
    "            continue\n",
    "        jarak = euclidean_distances(vectorizer_X[i].reshape(1, -1), vectorizer_X[j].reshape(1, -1))\n",
    "        print(f'Jarak dokumen {i+1} dan {j+1} : {jarak[0][0]}')"
   ]
  },
  {
   "cell_type": "markdown",
   "id": "131b7a81-6917-44fb-984a-5cd5e6df9e91",
   "metadata": {},
   "source": [
    "## Stop Word Filtering pada text"
   ]
  },
  {
   "cell_type": "markdown",
   "id": "b329f972-f28b-4cf0-8a52-9121d7855f10",
   "metadata": {},
   "source": [
    "#### Stop Word Filtering menyederhankan representasi text dengan mengabaikan beberapa kata seperti determiners(the, a, an), auxiliary verbs(do, be, will), dan prepositions(on, in at)"
   ]
  },
  {
   "cell_type": "code",
   "execution_count": 30,
   "id": "f99bedc2-21fe-4260-8140-2f8187deef6e",
   "metadata": {},
   "outputs": [
    {
     "data": {
      "text/plain": [
       "['Linux has been around since the mid-1990s.',\n",
       " 'Linux distributions include the linux kernel.',\n",
       " 'Linux is one of the most promient open-source software']"
      ]
     },
     "execution_count": 30,
     "metadata": {},
     "output_type": "execute_result"
    }
   ],
   "source": [
    "corpus"
   ]
  },
  {
   "cell_type": "markdown",
   "id": "cf08061b-5470-4aae-8b1b-09324011aabc",
   "metadata": {},
   "source": [
    "## Stop Word Filtering dengan CountVectorizer"
   ]
  },
  {
   "cell_type": "markdown",
   "id": "5cd05366-4b9b-4246-971d-154c3a3faa3a",
   "metadata": {},
   "source": [
    "#### Stop Word Filtering juga dapat diterapkan dengan memanfaatkan CountVectorizer"
   ]
  },
  {
   "cell_type": "code",
   "execution_count": 31,
   "id": "192a202a-81a4-4231-b89a-b8066c95f8c5",
   "metadata": {},
   "outputs": [
    {
     "data": {
      "text/plain": [
       "matrix([[1, 0, 0, 0, 1, 1, 0, 0, 0, 0],\n",
       "        [0, 1, 1, 1, 2, 0, 0, 0, 0, 0],\n",
       "        [0, 0, 0, 0, 1, 0, 1, 1, 1, 1]], dtype=int64)"
      ]
     },
     "execution_count": 31,
     "metadata": {},
     "output_type": "execute_result"
    }
   ],
   "source": [
    "from sklearn.feature_extraction.text import CountVectorizer\n",
    "\n",
    "vectorizer = CountVectorizer(stop_words='english')\n",
    "vectorizer_X = vectorizer.fit_transform(corpus).todense()\n",
    "vectorizer_X"
   ]
  },
  {
   "cell_type": "code",
   "execution_count": 33,
   "id": "26a338c7-0892-41a6-a41e-201ee41b0b84",
   "metadata": {},
   "outputs": [
    {
     "data": {
      "text/plain": [
       "array(['1990s', 'distributions', 'include', 'kernel', 'linux', 'mid',\n",
       "       'open', 'promient', 'software', 'source'], dtype=object)"
      ]
     },
     "execution_count": 33,
     "metadata": {},
     "output_type": "execute_result"
    }
   ],
   "source": [
    "vectorizer.get_feature_names_out()"
   ]
  }
 ],
 "metadata": {
  "kernelspec": {
   "display_name": "Python 3 (ipykernel)",
   "language": "python",
   "name": "python3"
  },
  "language_info": {
   "codemirror_mode": {
    "name": "ipython",
    "version": 3
   },
   "file_extension": ".py",
   "mimetype": "text/x-python",
   "name": "python",
   "nbconvert_exporter": "python",
   "pygments_lexer": "ipython3",
   "version": "3.12.7"
  }
 },
 "nbformat": 4,
 "nbformat_minor": 5
}
